{
  "nbformat": 4,
  "nbformat_minor": 0,
  "metadata": {
    "colab": {
      "name": "30 Days of Code.ipynb",
      "provenance": [],
      "collapsed_sections": [],
      "authorship_tag": "ABX9TyMxXQd6Jvqi7s3Zcb75aukt",
      "include_colab_link": true
    },
    "kernelspec": {
      "name": "python3",
      "display_name": "Python 3"
    }
  },
  "cells": [
    {
      "cell_type": "markdown",
      "metadata": {
        "id": "view-in-github",
        "colab_type": "text"
      },
      "source": [
        "<a href=\"https://colab.research.google.com/github/shwethaar/HackerRank-Python/blob/master/30_Days_of_Code.ipynb\" target=\"_parent\"><img src=\"https://colab.research.google.com/assets/colab-badge.svg\" alt=\"Open In Colab\"/></a>"
      ]
    },
    {
      "cell_type": "markdown",
      "metadata": {
        "id": "8RaFTwla9aj5"
      },
      "source": [
        "HackerRank's 30 Days of Code challenge.\n",
        "\n",
        "Solutions in Python 3"
      ]
    },
    {
      "cell_type": "code",
      "metadata": {
        "id": "HrxZvlyG6mkF"
      },
      "source": [
        "# Day 0 : Hello, World.\n",
        "print(input_string)"
      ],
      "execution_count": null,
      "outputs": []
    },
    {
      "cell_type": "code",
      "metadata": {
        "id": "E9h3rwHF7Z-b"
      },
      "source": [
        "# Day 1: Data Types\n",
        "i2 = int(input())\n",
        "d2 = float(input())\n",
        "s2 = input()\n",
        "\n",
        "print(i+i2)\n",
        "print(d+d2)\n",
        "print(s+s2)"
      ],
      "execution_count": null,
      "outputs": []
    },
    {
      "cell_type": "code",
      "metadata": {
        "id": "0EQ2yEAl8mZK"
      },
      "source": [
        "# Day 2: Operators\n",
        "def solve(meal_cost, tip_percent, tax_percent):\n",
        "    total = meal_cost + ((tip_percent+tax_percent)/100)*meal_cost\n",
        "    print(round(total))"
      ],
      "execution_count": null,
      "outputs": []
    },
    {
      "cell_type": "code",
      "metadata": {
        "id": "c73Lnrts6saH"
      },
      "source": [
        "# Day 3: Intro to Conditional Statement\n",
        "if N%2 !=0 :\n",
        "    print(\"Weird\")\n",
        "elif N>=2 and N<=5:\n",
        "    print(\"Not Weird\")\n",
        "elif N>=6 and N<=20:\n",
        "    print(\"Weird\")\n",
        "elif N>20:\n",
        "    print(\"Not Weird\")"
      ],
      "execution_count": null,
      "outputs": []
    },
    {
      "cell_type": "code",
      "metadata": {
        "id": "bMIcFq2H9UuQ"
      },
      "source": [
        "# Day 4: Class vs. Instance\n",
        "\n",
        "class Person:\n",
        "    def __init__(self,initialAge):\n",
        "        if initialAge>=0:\n",
        "          self.age = initialAge\n",
        "        else:\n",
        "          self.age=0\n",
        "          print(\"Age is not valid, setting age to 0.\")\n",
        "\n",
        "    def amIOld(self):\n",
        "        if self.age<13:\n",
        "          print(\"You are young.\")\n",
        "        elif self.age>=13 and self.age<18:\n",
        "          print(\"You are a teenager.\")\n",
        "        else:\n",
        "          print(\"You are old.\")\n",
        "    def yearPasses(self):\n",
        "        self.age +=1"
      ],
      "execution_count": null,
      "outputs": []
    },
    {
      "cell_type": "code",
      "metadata": {
        "id": "2UExtEZ_8-ZL"
      },
      "source": [
        "# Day 5: Loops\n",
        "for i in range(1,11):\n",
        "  print(\"{} x {} = {}\".format(n,i,(n*i)))"
      ],
      "execution_count": null,
      "outputs": []
    },
    {
      "cell_type": "code",
      "metadata": {
        "id": "jixu8-Ss9YFG"
      },
      "source": [
        "# Day 6: Let's Review\n",
        "t = int(input())\n",
        "for i in range(t):\n",
        "  s = input()\n",
        "  se=s[0::2]\n",
        "  so=s[1::2]\n",
        "  print(se+\" \"+so)\n",
        "\n",
        "#Alternative solution\n",
        "t = int(input())\n",
        "for i in range(t):\n",
        "  s = input()\n",
        "  se=[]\n",
        "  so=[]\n",
        "  for j in range(len(s)):\n",
        "    if j%2 == 0:\n",
        "      se.append(s[j])\n",
        "    else:\n",
        "      so.append(s[j])\n",
        "  print(\"\".join(se),\"\".join(so),sep=\"  \")"
      ],
      "execution_count": null,
      "outputs": []
    },
    {
      "cell_type": "code",
      "metadata": {
        "id": "cEuAMe7pXl-5"
      },
      "source": [
        "# Day 7: Arrays\n",
        "for k in arr[::-1]:\n",
        "  print(k,end=\" \")"
      ],
      "execution_count": null,
      "outputs": []
    },
    {
      "cell_type": "code",
      "metadata": {
        "id": "zoGcMnl9Vea0"
      },
      "source": [
        "# Day 8: Phone a Friend\n",
        "n = int(input())\n",
        "phone = {}\n",
        "for i in range(n):\n",
        "    entry = input().split()\n",
        "    phone[entry[0]] = entry[1]\n",
        "while True:\n",
        "  try:\n",
        "    name = input()\n",
        "    if name in phone:\n",
        "      print('{}={}'.format(name, phone[name]))\n",
        "    else:\n",
        "      print('Not found')\n",
        "  except:\n",
        "     break"
      ],
      "execution_count": null,
      "outputs": []
    },
    {
      "cell_type": "code",
      "metadata": {
        "id": "Kq8XwzZOVVKa"
      },
      "source": [
        "# Day 9: Recursion 3\n",
        "def factorial(n):\n",
        "  if n == 1 :\n",
        "    return (1)\n",
        "  else:\n",
        "    return n*factorial(n-1)"
      ],
      "execution_count": null,
      "outputs": []
    }
  ]
}
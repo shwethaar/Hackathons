{
  "nbformat": 4,
  "nbformat_minor": 0,
  "metadata": {
    "colab": {
      "name": "hackerrank_1.ipynb",
      "provenance": [],
      "collapsed_sections": [],
      "authorship_tag": "ABX9TyO3nX9lSv6AiMd8/s05Qv5K",
      "include_colab_link": true
    },
    "kernelspec": {
      "name": "python3",
      "display_name": "Python 3"
    }
  },
  "cells": [
    {
      "cell_type": "markdown",
      "metadata": {
        "id": "view-in-github",
        "colab_type": "text"
      },
      "source": [
        "<a href=\"https://colab.research.google.com/github/shwethaar/HackerRank-Python/blob/master/hackerrank_1.ipynb\" target=\"_parent\"><img src=\"https://colab.research.google.com/assets/colab-badge.svg\" alt=\"Open In Colab\"/></a>"
      ]
    },
    {
      "cell_type": "code",
      "metadata": {
        "id": "PoobydQoDMBo",
        "colab_type": "code",
        "colab": {}
      },
      "source": [
        "#Say \"Hello, World!\" With Python\n",
        "print(\"Hello, World!\") "
      ],
      "execution_count": null,
      "outputs": []
    },
    {
      "cell_type": "code",
      "metadata": {
        "id": "e3fLBU3vFcnM",
        "colab_type": "code",
        "colab": {}
      },
      "source": [
        "#Python If-Else\n",
        "if (n%2 !=0):\n",
        "  print(\"Weird\")\n",
        "elif ( n in range(2,6)):\n",
        "  print(\"Not Weird\")\n",
        "elif (n in range(6,21)):\n",
        "  print(\"Weird\")\n",
        "else:\n",
        "  print(\"Not Weird\")"
      ],
      "execution_count": null,
      "outputs": []
    },
    {
      "cell_type": "code",
      "metadata": {
        "id": "z42gWmhoHIH9",
        "colab_type": "code",
        "colab": {}
      },
      "source": [
        "#Arithmetic Operators\n",
        "print(a+b,a-b,a*b,sep=\"\\n\")"
      ],
      "execution_count": null,
      "outputs": []
    },
    {
      "cell_type": "code",
      "metadata": {
        "id": "Bh1MWGuLHRav",
        "colab_type": "code",
        "colab": {}
      },
      "source": [
        "#Python:Division\n",
        "print(a//b,a/b,sep=\"\\n\")"
      ],
      "execution_count": null,
      "outputs": []
    },
    {
      "cell_type": "code",
      "metadata": {
        "id": "iycVGIT8Hq4g",
        "colab_type": "code",
        "colab": {}
      },
      "source": [
        "#Loops\n",
        "for i in  range(n):\n",
        "  print(i**2)"
      ],
      "execution_count": null,
      "outputs": []
    },
    {
      "cell_type": "code",
      "metadata": {
        "id": "0Ruteb0DHyhy",
        "colab_type": "code",
        "colab": {}
      },
      "source": [
        "#Write a function\n",
        "def is_leap(year):\n",
        "    leap = False\n",
        "    # Write your logic here\n",
        "    if(year%4 == 0):\n",
        "      if(year%100 ==0):\n",
        "        if(year%400 ==0):\n",
        "          leap=True\n",
        "      else:\n",
        "        leap = True\n",
        "    return leap"
      ],
      "execution_count": null,
      "outputs": []
    },
    {
      "cell_type": "code",
      "metadata": {
        "id": "EoaZzAKtInnZ",
        "colab_type": "code",
        "colab": {}
      },
      "source": [
        "#Print Function\n",
        "for i in range(1,n+1):\n",
        "  print(i,end=\"\")"
      ],
      "execution_count": null,
      "outputs": []
    },
    {
      "cell_type": "code",
      "metadata": {
        "id": "5pUzDaOhJ_jb",
        "colab_type": "code",
        "colab": {}
      },
      "source": [
        "# Set .symmetric_difference() Operation\n",
        "eng_count = int(input())\n",
        "eng_roll =set(map(int, input().rstrip().split()))\n",
        "french_count = int(input())\n",
        "french_roll = list(map(int, input().rstrip().split()))\n",
        "print(len(eng_roll.symmetric_difference(french_roll)))"
      ],
      "execution_count": null,
      "outputs": []
    },
    {
      "cell_type": "code",
      "metadata": {
        "id": "c2kSb9YOkLQq",
        "colab_type": "code",
        "colab": {}
      },
      "source": [
        "#Find the runner-up score\n",
        "arr = list (arr())\n",
        "score=[]\n",
        "for i in arr:\n",
        "  if (i not in score):\n",
        "    score.append(i)\n",
        "score.sort()\n",
        "print(score)\n",
        "print(score[-2])"
      ],
      "execution_count": null,
      "outputs": []
    },
    {
      "cell_type": "code",
      "metadata": {
        "id": "P6tuzDtwqlfS",
        "colab_type": "code",
        "colab": {}
      },
      "source": [
        "#Finding the percentage\n",
        "query_name = input()\n",
        "marks_query = student_marks[query_name]\n",
        "sum_marks = sum(marks_query)\n",
        "print(\"{:.2f}\".format(sum_marks/(len(marks_query))))"
      ],
      "execution_count": null,
      "outputs": []
    },
    {
      "cell_type": "code",
      "metadata": {
        "id": "mItJheXhuIl1",
        "colab_type": "code",
        "colab": {}
      },
      "source": [
        "#Lists\n",
        "list1=[]\n",
        "for i in range(N):\n",
        "  ip = input().split(\" \")\n",
        "  if (ip[0] == \"insert\"):\n",
        "    list1.insert(int (ip[1]),int (ip[2]))\n",
        "  elif (ip[0] == \"print\"):\n",
        "    print(list1)\n",
        "  elif (ip[0] == \"remove\"):\n",
        "    list1.remove(int (ip[1]))\n",
        "  elif (ip[0] == \"append\"):\n",
        "    list1.append(int (ip[1]))\n",
        "  elif (ip[0] == \"sort\"):\n",
        "    list1.sort()\n",
        "  elif (ip[0] == \"pop\"):\n",
        "    list1.pop()\n",
        "  elif (ip[0] == \"reverse\"):\n",
        "    list1.reverse()"
      ],
      "execution_count": null,
      "outputs": []
    },
    {
      "cell_type": "code",
      "metadata": {
        "id": "OKGFk6z_0LEe",
        "colab_type": "code",
        "colab": {}
      },
      "source": [
        "#Tuples\n",
        "integer_list = tuple (integer_list)\n",
        "print(hash(integer_list))"
      ],
      "execution_count": null,
      "outputs": []
    },
    {
      "cell_type": "code",
      "metadata": {
        "id": "xdbXwUUy1iSf",
        "colab_type": "code",
        "colab": {}
      },
      "source": [
        "#sWAP cASE\n",
        "print(s.swapcase())"
      ],
      "execution_count": null,
      "outputs": []
    },
    {
      "cell_type": "code",
      "metadata": {
        "id": "TFrdXPGs2Xog",
        "colab_type": "code",
        "colab": {}
      },
      "source": [
        "#String split and join\n",
        "return( \"-\".join( line.split(\" \")))"
      ],
      "execution_count": null,
      "outputs": []
    },
    {
      "cell_type": "code",
      "metadata": {
        "id": "7KTaSEz9320l",
        "colab_type": "code",
        "colab": {}
      },
      "source": [
        "#What's Your Name?\n",
        "print(\"Hello\",a,b+\"! You just delved into python.\")"
      ],
      "execution_count": null,
      "outputs": []
    },
    {
      "cell_type": "code",
      "metadata": {
        "id": "zM8J52G-4n98",
        "colab_type": "code",
        "colab": {}
      },
      "source": [
        "#Mutations\n",
        "return (string[:position]+character+string[position+1:])"
      ],
      "execution_count": null,
      "outputs": []
    },
    {
      "cell_type": "code",
      "metadata": {
        "id": "YBWHinv_5jOr",
        "colab_type": "code",
        "colab": {}
      },
      "source": [
        "#Find a String\n",
        "  count = 0\n",
        "  for i in range(len(string)-len(sub_string)+1):\n",
        "    sstr =[]\n",
        "    for j in range(len(sub_string)):\n",
        "      sstr.append(string[i+j])\n",
        "    if ( sub_string == \"\".join(sstr)):\n",
        "      count+=1\n",
        "  return (count)"
      ],
      "execution_count": null,
      "outputs": []
    },
    {
      "cell_type": "code",
      "metadata": {
        "id": "PxhkzxAN-P6n",
        "colab_type": "code",
        "colab": {}
      },
      "source": [
        "#String Validators\n",
        "s = [i for i in  s]\n",
        "result=[\"False\" for k in range(5)]\n",
        "for j in s:\n",
        "  if (j.isalnum()):\n",
        "    result[0]=True\n",
        "  if (j.isalpha()):\n",
        "    result[1] =True\n",
        "  if (j.isdigit()):\n",
        "    result[2] =True\n",
        "  if (j.islower()):\n",
        "    result[3] =True\n",
        "  if (j.isupper()):\n",
        "    result[4] =True\n",
        "  else:\n",
        "    continue\n",
        "  \n",
        "for k in result:\n",
        "  print( k  , end=\"\\n\")"
      ],
      "execution_count": null,
      "outputs": []
    },
    {
      "cell_type": "code",
      "metadata": {
        "id": "8EWktJeOQ7fG",
        "colab_type": "code",
        "colab": {}
      },
      "source": [
        "#Text Wrap\n",
        "l = textwrap.wrap(string,width = max_width)\n",
        "return (\"\\n\".join(l))"
      ],
      "execution_count": null,
      "outputs": []
    },
    {
      "cell_type": "code",
      "metadata": {
        "id": "XTUe1ygLWdau",
        "colab_type": "code",
        "colab": {
          "base_uri": "https://localhost:8080/",
          "height": 67
        },
        "outputId": "ba0f78a0-2e5a-4870-c5fd-d2edef389fdd"
      },
      "source": [
        "#itertools.product()\n",
        "from itertools import product\n",
        "a=  list(map(int, input().split()))\n",
        "b=  list(map(int, input().split()))\n",
        "\n",
        "result = list (product(a,b))\n",
        "for k in result:\n",
        "  print(k,end=\" \")"
      ],
      "execution_count": 39,
      "outputs": [
        {
          "output_type": "stream",
          "text": [
            "1 2\n",
            "3 4\n",
            "(1, 3) (1, 4) (2, 3) (2, 4) "
          ],
          "name": "stdout"
        }
      ]
    }
  ]
}
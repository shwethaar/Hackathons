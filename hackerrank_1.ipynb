{
  "nbformat": 4,
  "nbformat_minor": 0,
  "metadata": {
    "colab": {
      "name": "hackerrank_1.ipynb",
      "provenance": [],
      "collapsed_sections": [],
      "authorship_tag": "ABX9TyMElmZXGdGr0e4pMH14nlm/",
      "include_colab_link": true
    },
    "kernelspec": {
      "name": "python3",
      "display_name": "Python 3"
    }
  },
  "cells": [
    {
      "cell_type": "markdown",
      "metadata": {
        "id": "view-in-github",
        "colab_type": "text"
      },
      "source": [
        "<a href=\"https://colab.research.google.com/github/shwethaar/HackerRank-Python/blob/master/hackerrank_1.ipynb\" target=\"_parent\"><img src=\"https://colab.research.google.com/assets/colab-badge.svg\" alt=\"Open In Colab\"/></a>"
      ]
    },
    {
      "cell_type": "code",
      "metadata": {
        "id": "PoobydQoDMBo",
        "colab_type": "code",
        "colab": {}
      },
      "source": [
        "#Say \"Hello, World!\" With Python\n",
        "print(\"Hello, World!\") "
      ],
      "execution_count": null,
      "outputs": []
    },
    {
      "cell_type": "code",
      "metadata": {
        "id": "e3fLBU3vFcnM",
        "colab_type": "code",
        "colab": {}
      },
      "source": [
        "#Python If-Else\n",
        "if (n%2 !=0):\n",
        "  print(\"Weird\")\n",
        "elif ( n in range(2,6)):\n",
        "  print(\"Not Weird\")\n",
        "elif (n in range(6,21)):\n",
        "  print(\"Weird\")\n",
        "else:\n",
        "  print(\"Not Weird\")"
      ],
      "execution_count": null,
      "outputs": []
    },
    {
      "cell_type": "code",
      "metadata": {
        "id": "z42gWmhoHIH9",
        "colab_type": "code",
        "colab": {}
      },
      "source": [
        "#Arithmetic Operators\n",
        "print(a+b,a-b,a*b,sep=\"\\n\")"
      ],
      "execution_count": null,
      "outputs": []
    },
    {
      "cell_type": "code",
      "metadata": {
        "id": "Bh1MWGuLHRav",
        "colab_type": "code",
        "colab": {}
      },
      "source": [
        "#Python:Division\n",
        "print(a//b,a/b,sep=\"\\n\")"
      ],
      "execution_count": null,
      "outputs": []
    },
    {
      "cell_type": "code",
      "metadata": {
        "id": "iycVGIT8Hq4g",
        "colab_type": "code",
        "colab": {}
      },
      "source": [
        "#Loops\n",
        "for i in  range(n):\n",
        "  print(i**2)"
      ],
      "execution_count": null,
      "outputs": []
    },
    {
      "cell_type": "code",
      "metadata": {
        "id": "0Ruteb0DHyhy",
        "colab_type": "code",
        "colab": {}
      },
      "source": [
        "#Write a function\n",
        "def is_leap(year):\n",
        "    leap = False\n",
        "    # Write your logic here\n",
        "    if(year%4 == 0):\n",
        "      if(year%100 ==0):\n",
        "        if(year%400 ==0):\n",
        "          leap=True\n",
        "      else:\n",
        "        leap = True\n",
        "    return leap"
      ],
      "execution_count": null,
      "outputs": []
    },
    {
      "cell_type": "code",
      "metadata": {
        "id": "EoaZzAKtInnZ",
        "colab_type": "code",
        "colab": {}
      },
      "source": [
        "#Print Function\n",
        "for i in range(1,n+1):\n",
        "  print(i,end=\"\")"
      ],
      "execution_count": null,
      "outputs": []
    },
    {
      "cell_type": "code",
      "metadata": {
        "id": "5pUzDaOhJ_jb",
        "colab_type": "code",
        "colab": {}
      },
      "source": [
        "# Set .symmetric_difference() Operation\n",
        "eng_count = int(input())\n",
        "eng_roll =set(map(int, input().rstrip().split()))\n",
        "french_count = int(input())\n",
        "french_roll = list(map(int, input().rstrip().split()))\n",
        "print(len(eng_roll.symmetric_difference(french_roll)))"
      ],
      "execution_count": null,
      "outputs": []
    },
    {
      "cell_type": "code",
      "metadata": {
        "id": "c2kSb9YOkLQq",
        "colab_type": "code",
        "colab": {}
      },
      "source": [
        "#Find the runner-up score\n",
        "arr = list (arr())\n",
        "score=[]\n",
        "for i in arr:\n",
        "  if (i not in score):\n",
        "    score.append(i)\n",
        "score.sort()\n",
        "print(score)\n",
        "print(score[-2])"
      ],
      "execution_count": null,
      "outputs": []
    },
    {
      "cell_type": "code",
      "metadata": {
        "id": "P6tuzDtwqlfS",
        "colab_type": "code",
        "colab": {}
      },
      "source": [
        "#Finding the percentage\n",
        "query_name = input()\n",
        "marks_query = student_marks[query_name]\n",
        "sum_marks = sum(marks_query)\n",
        "print(\"{:.2f}\".format(sum_marks/(len(marks_query))))"
      ],
      "execution_count": null,
      "outputs": []
    },
    {
      "cell_type": "code",
      "metadata": {
        "id": "mItJheXhuIl1",
        "colab_type": "code",
        "colab": {}
      },
      "source": [
        "#Lists\n",
        "list1=[]\n",
        "for i in range(N):\n",
        "  ip = input().split(\" \")\n",
        "  if (ip[0] == \"insert\"):\n",
        "    list1.insert(int (ip[1]),int (ip[2]))\n",
        "  elif (ip[0] == \"print\"):\n",
        "    print(list1)\n",
        "  elif (ip[0] == \"remove\"):\n",
        "    list1.remove(int (ip[1]))\n",
        "  elif (ip[0] == \"append\"):\n",
        "    list1.append(int (ip[1]))\n",
        "  elif (ip[0] == \"sort\"):\n",
        "    list1.sort()\n",
        "  elif (ip[0] == \"pop\"):\n",
        "    list1.pop()\n",
        "  elif (ip[0] == \"reverse\"):\n",
        "    list1.reverse()"
      ],
      "execution_count": null,
      "outputs": []
    },
    {
      "cell_type": "code",
      "metadata": {
        "id": "OKGFk6z_0LEe",
        "colab_type": "code",
        "colab": {}
      },
      "source": [
        "#Tuples\n",
        "integer_list = tuple (integer_list)\n",
        "print(hash(integer_list))"
      ],
      "execution_count": null,
      "outputs": []
    },
    {
      "cell_type": "code",
      "metadata": {
        "id": "xdbXwUUy1iSf",
        "colab_type": "code",
        "colab": {}
      },
      "source": [
        "#sWAP cASE\n",
        "print(s.swapcase())"
      ],
      "execution_count": null,
      "outputs": []
    },
    {
      "cell_type": "code",
      "metadata": {
        "id": "TFrdXPGs2Xog",
        "colab_type": "code",
        "colab": {}
      },
      "source": [
        "#String split and join\n",
        "return( \"-\".join( line.split(\" \")))"
      ],
      "execution_count": null,
      "outputs": []
    },
    {
      "cell_type": "code",
      "metadata": {
        "id": "7KTaSEz9320l",
        "colab_type": "code",
        "colab": {}
      },
      "source": [
        "#What's Your Name?\n",
        "print(\"Hello\",a,b+\"! You just delved into python.\")"
      ],
      "execution_count": null,
      "outputs": []
    },
    {
      "cell_type": "code",
      "metadata": {
        "id": "zM8J52G-4n98",
        "colab_type": "code",
        "colab": {}
      },
      "source": [
        "#Mutations\n",
        "return (string[:position]+character+string[position+1:])"
      ],
      "execution_count": null,
      "outputs": []
    },
    {
      "cell_type": "code",
      "metadata": {
        "id": "YBWHinv_5jOr",
        "colab_type": "code",
        "colab": {}
      },
      "source": [
        "#Find a String\n",
        "  count = 0\n",
        "  for i in range(len(string)-len(sub_string)+1):\n",
        "    sstr =[]\n",
        "    for j in range(len(sub_string)):\n",
        "      sstr.append(string[i+j])\n",
        "    if ( sub_string == \"\".join(sstr)):\n",
        "      count+=1\n",
        "  return (count)"
      ],
      "execution_count": null,
      "outputs": []
    },
    {
      "cell_type": "code",
      "metadata": {
        "id": "PxhkzxAN-P6n",
        "colab_type": "code",
        "colab": {}
      },
      "source": [
        "#String Validators\n",
        "s = [i for i in  s]\n",
        "result=[\"False\" for k in range(5)]\n",
        "for j in s:\n",
        "  if (j.isalnum()):\n",
        "    result[0]=True\n",
        "  if (j.isalpha()):\n",
        "    result[1] =True\n",
        "  if (j.isdigit()):\n",
        "    result[2] =True\n",
        "  if (j.islower()):\n",
        "    result[3] =True\n",
        "  if (j.isupper()):\n",
        "    result[4] =True\n",
        "  else:\n",
        "    continue\n",
        "  \n",
        "for k in result:\n",
        "  print( k  , end=\"\\n\")"
      ],
      "execution_count": null,
      "outputs": []
    },
    {
      "cell_type": "code",
      "metadata": {
        "id": "8EWktJeOQ7fG",
        "colab_type": "code",
        "colab": {}
      },
      "source": [
        "#Text Wrap\n",
        "l = textwrap.wrap(string,width = max_width)\n",
        "return (\"\\n\".join(l))"
      ],
      "execution_count": null,
      "outputs": []
    },
    {
      "cell_type": "code",
      "metadata": {
        "id": "XTUe1ygLWdau",
        "colab_type": "code",
        "colab": {}
      },
      "source": [
        "#itertools.product()\n",
        "from itertools import product\n",
        "a=  list(map(int, input().split()))\n",
        "b=  list(map(int, input().split()))\n",
        "\n",
        "result = list (product(a,b))\n",
        "for k in result:\n",
        "  print(k,end=\" \")"
      ],
      "execution_count": null,
      "outputs": []
    },
    {
      "cell_type": "code",
      "metadata": {
        "id": "KqiMco93wL-4",
        "colab_type": "code",
        "colab": {}
      },
      "source": [
        "#itertools.permutations\n",
        "from itertools import permutations\n",
        "string = list (input().split())\n",
        "string , num = string[0],int (string[1])\n",
        "l_perm = list (permutations(string,num))\n",
        "l_perm.sort()\n",
        "for i in l_perm:\n",
        "  print(\"\".join(i))\n"
      ],
      "execution_count": null,
      "outputs": []
    },
    {
      "cell_type": "code",
      "metadata": {
        "id": "aC0vEhWF0mrA",
        "colab_type": "code",
        "colab": {}
      },
      "source": [
        "#itertools.combinations\n",
        "from itertools import combinations\n",
        "string = list (input().split())\n",
        "string , num = string[0],int (string[1])\n",
        "string = list(string)\n",
        "string.sort()\n",
        "string = \"\".join(string)\n",
        "for k in range(1,num+1):\n",
        "  l_com = list (combinations(string,k))\n",
        "  l_com.sort()\n",
        "  for i in l_com:\n",
        "    print(\"\".join(i))"
      ],
      "execution_count": null,
      "outputs": []
    },
    {
      "cell_type": "code",
      "metadata": {
        "id": "L7AdkhHzz5W5",
        "colab_type": "code",
        "colab": {}
      },
      "source": [
        "#collections.Counter()\n",
        "from collections import Counter\n",
        "num_shoes = int (input())\n",
        "shoesizes = list (map(int,input().split()))\n",
        "shoesizes = Counter(shoesizes)\n",
        "num_cust=int (input())\n",
        "earning=0\n",
        "for j in range(num_cust):\n",
        "  specs = list(map(int,input().split()))\n",
        "  if (shoesizes[specs[0]]>=1):\n",
        "    earning+=specs[1]\n",
        "    shoesizes[specs[0]]-=1\n",
        "  else:\n",
        "    continue\n",
        "print(earning)"
      ],
      "execution_count": null,
      "outputs": []
    },
    {
      "cell_type": "code",
      "metadata": {
        "id": "7ZtgHovkIlMV",
        "colab_type": "code",
        "colab": {}
      },
      "source": [
        "#Polar Coordinates\n",
        "from cmath import *\n",
        "cmp_num = complex(input())\n",
        "print(abs(complex (cmp_num)))\n",
        "print(phase(complex (cmp_num)))"
      ],
      "execution_count": null,
      "outputs": []
    },
    {
      "cell_type": "code",
      "metadata": {
        "id": "MpnJaok4MPpG",
        "colab_type": "code",
        "colab": {}
      },
      "source": [
        "#Introduction to Sets\n",
        "distinct_ht = set (array)\n",
        "return (sum(distinct_ht)/len(distinct_ht))"
      ],
      "execution_count": null,
      "outputs": []
    },
    {
      "cell_type": "code",
      "metadata": {
        "id": "blEoPLA5NKyp",
        "colab_type": "code",
        "colab": {}
      },
      "source": [
        "#Symmetric Difference\n",
        "m = int (input())\n",
        "set1 = set (map(int , input().split()))\n",
        "n = int (input())\n",
        "set2 = set (map(int , input().split()))\n",
        "set_diff = list((set1.difference(set2)).union(set2.difference(set1)))\n",
        "set_diff.sort()\n",
        "for ele in set_diff:\n",
        "  print(ele)"
      ],
      "execution_count": null,
      "outputs": []
    },
    {
      "cell_type": "code",
      "metadata": {
        "id": "MHoQKgeqRebU",
        "colab_type": "code",
        "colab": {}
      },
      "source": [
        "#No Idea! -- incomplete\n",
        "from collections import Counter\n",
        "n = list (map(int , input().split()))\n",
        "n,m = n[0],n[1]\n",
        "arr = Counter(list (map(int , input().split())))\n",
        "a = list (map(int , input().split()))\n",
        "b = list (map(int , input().split()))\n",
        "happiness = 0\n",
        "for num in arr.keys():\n",
        "  if (num in a):\n",
        "    happiness+=(arr[num])\n",
        "  elif (num in b):\n",
        "    happiness-=(arr[num])\n",
        "  else:\n",
        "    continue\n",
        "print(happiness)"
      ],
      "execution_count": null,
      "outputs": []
    },
    {
      "cell_type": "code",
      "metadata": {
        "id": "7NkP8fODWx1_",
        "colab_type": "code",
        "colab": {}
      },
      "source": [
        "#Calendar Module y m d\n",
        "from calendar import weekday\n",
        "mdy = list (map(int , input().split()))\n",
        "days=[\"MONDAY\",\"TUESDAY\",\"WEDNESDAY\",\"THURSDAY\",\"FRIDAY\",\"SATURDAY\",\"SUNDAY\"]\n",
        "day_week = weekday(mdy[2],mdy[0],mdy[1])\n",
        "print(days[day_week])"
      ],
      "execution_count": null,
      "outputs": []
    },
    {
      "cell_type": "code",
      "metadata": {
        "id": "4dej28NgYmzH",
        "colab_type": "code",
        "colab": {}
      },
      "source": [
        "#Exceptions\n",
        "t = int (input())\n",
        "for i in range(t):\n",
        "  a = list ( input().split())\n",
        "  a,b= a[0],a[1]\n",
        "  try:\n",
        "      print(int (a)//int (b))\n",
        "  except ZeroDivisionError as zde:\n",
        "    print(\"Error Code:\",zde)\n",
        "  except ValueError as ve:\n",
        "    print(\"Error Code:\",ve)"
      ],
      "execution_count": null,
      "outputs": []
    },
    {
      "cell_type": "code",
      "metadata": {
        "id": "5ZXhPrXOm2Uq",
        "colab_type": "code",
        "colab": {}
      },
      "source": [
        "n = int (input())\n",
        "id = (list (input().split())).index(\"MARKS\")\n",
        "marks_sum = 0 \n",
        "for x in range(n):\n",
        "  marks_sum+=int ((list (input().split()))[id])\n",
        "print(\"{:.2f}\".format(marks_sum))"
      ],
      "execution_count": null,
      "outputs": []
    }
  ]
}
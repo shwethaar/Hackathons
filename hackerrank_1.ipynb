{
  "nbformat": 4,
  "nbformat_minor": 0,
  "metadata": {
    "colab": {
      "name": "hackerrank_1.ipynb",
      "provenance": [],
      "authorship_tag": "ABX9TyMGs2xbEhsBJDc5zrgTFyQ5",
      "include_colab_link": true
    },
    "kernelspec": {
      "name": "python3",
      "display_name": "Python 3"
    }
  },
  "cells": [
    {
      "cell_type": "markdown",
      "metadata": {
        "id": "view-in-github",
        "colab_type": "text"
      },
      "source": [
        "<a href=\"https://colab.research.google.com/github/shwethaar/HackerRank-Python/blob/master/hackerrank_1.ipynb\" target=\"_parent\"><img src=\"https://colab.research.google.com/assets/colab-badge.svg\" alt=\"Open In Colab\"/></a>"
      ]
    },
    {
      "cell_type": "code",
      "metadata": {
        "id": "PoobydQoDMBo",
        "colab_type": "code",
        "colab": {
          "base_uri": "https://localhost:8080/",
          "height": 34
        },
        "outputId": "06b94c40-bbe0-46a9-d644-e09d0b7083ad"
      },
      "source": [
        "#Say \"Hello, World!\" With Python\n",
        "print(\"Hello, World!\") "
      ],
      "execution_count": 1,
      "outputs": [
        {
          "output_type": "stream",
          "text": [
            "Hello, World!\n"
          ],
          "name": "stdout"
        }
      ]
    },
    {
      "cell_type": "code",
      "metadata": {
        "id": "e3fLBU3vFcnM",
        "colab_type": "code",
        "colab": {}
      },
      "source": [
        "#Python If-Else\n",
        "if (n%2 !=0):\n",
        "  print(\"Weird\")\n",
        "elif ( n in range(2,6)):\n",
        "  print(\"Not Weird\")\n",
        "elif (n in range(6,21)):\n",
        "  print(\"Weird\")\n",
        "else:\n",
        "  print(\"Not Weird\")"
      ],
      "execution_count": null,
      "outputs": []
    },
    {
      "cell_type": "code",
      "metadata": {
        "id": "z42gWmhoHIH9",
        "colab_type": "code",
        "colab": {}
      },
      "source": [
        "#Arithmetic Operators\n",
        "print(a+b,a-b,a*b,sep=\"\\n\")"
      ],
      "execution_count": null,
      "outputs": []
    },
    {
      "cell_type": "code",
      "metadata": {
        "id": "Bh1MWGuLHRav",
        "colab_type": "code",
        "colab": {}
      },
      "source": [
        "#Python:Division\n",
        "print(a//b,a/b,sep=\"\\n\")"
      ],
      "execution_count": null,
      "outputs": []
    },
    {
      "cell_type": "code",
      "metadata": {
        "id": "iycVGIT8Hq4g",
        "colab_type": "code",
        "colab": {}
      },
      "source": [
        "#Loops\n",
        "for i in  range(n):\n",
        "  print(i**2)"
      ],
      "execution_count": null,
      "outputs": []
    },
    {
      "cell_type": "code",
      "metadata": {
        "id": "0Ruteb0DHyhy",
        "colab_type": "code",
        "colab": {}
      },
      "source": [
        "#Write a function\n",
        "def is_leap(year):\n",
        "    leap = False\n",
        "    # Write your logic here\n",
        "    if(year%4 == 0):\n",
        "      if(year%100 ==0):\n",
        "        if(year%400 ==0):\n",
        "          leap=True\n",
        "      else:\n",
        "        leap = True\n",
        "    return leap"
      ],
      "execution_count": null,
      "outputs": []
    },
    {
      "cell_type": "code",
      "metadata": {
        "id": "EoaZzAKtInnZ",
        "colab_type": "code",
        "colab": {}
      },
      "source": [
        "#Print Function\n",
        "for i in range(1,n+1):\n",
        "  print(i,end=\"\")"
      ],
      "execution_count": null,
      "outputs": []
    },
    {
      "cell_type": "code",
      "metadata": {
        "id": "5pUzDaOhJ_jb",
        "colab_type": "code",
        "colab": {
          "base_uri": "https://localhost:8080/",
          "height": 247
        },
        "outputId": "c8c1d3a8-77e4-43cf-d18f-7aed03a9e058"
      },
      "source": [
        "eng_count = int(input())\n",
        "eng_roll = input()\n",
        "print(type(eng_roll))\n",
        "eng_roll = eng_roll.rsplit()\n",
        "for i in range(len(eng_roll)):\n",
        "  eng_roll[i] =int (eng_roll)"
      ],
      "execution_count": 18,
      "outputs": [
        {
          "output_type": "stream",
          "text": [
            "5\n",
            "1 2 3 4 5\n",
            "<class 'str'>\n"
          ],
          "name": "stdout"
        },
        {
          "output_type": "error",
          "ename": "TypeError",
          "evalue": "ignored",
          "traceback": [
            "\u001b[0;31m---------------------------------------------------------------------------\u001b[0m",
            "\u001b[0;31mTypeError\u001b[0m                                 Traceback (most recent call last)",
            "\u001b[0;32m<ipython-input-18-2f0a53ccd712>\u001b[0m in \u001b[0;36m<module>\u001b[0;34m()\u001b[0m\n\u001b[1;32m      4\u001b[0m \u001b[0meng_roll\u001b[0m \u001b[0;34m=\u001b[0m \u001b[0meng_roll\u001b[0m\u001b[0;34m.\u001b[0m\u001b[0mrsplit\u001b[0m\u001b[0;34m(\u001b[0m\u001b[0;34m)\u001b[0m\u001b[0;34m\u001b[0m\u001b[0;34m\u001b[0m\u001b[0m\n\u001b[1;32m      5\u001b[0m \u001b[0;32mfor\u001b[0m \u001b[0mi\u001b[0m \u001b[0;32min\u001b[0m \u001b[0mrange\u001b[0m\u001b[0;34m(\u001b[0m\u001b[0mlen\u001b[0m\u001b[0;34m(\u001b[0m\u001b[0meng_roll\u001b[0m\u001b[0;34m)\u001b[0m\u001b[0;34m)\u001b[0m\u001b[0;34m:\u001b[0m\u001b[0;34m\u001b[0m\u001b[0;34m\u001b[0m\u001b[0m\n\u001b[0;32m----> 6\u001b[0;31m   \u001b[0meng_roll\u001b[0m\u001b[0;34m[\u001b[0m\u001b[0mi\u001b[0m\u001b[0;34m]\u001b[0m \u001b[0;34m=\u001b[0m\u001b[0mint\u001b[0m \u001b[0;34m(\u001b[0m\u001b[0meng_roll\u001b[0m\u001b[0;34m)\u001b[0m\u001b[0;34m\u001b[0m\u001b[0;34m\u001b[0m\u001b[0m\n\u001b[0m",
            "\u001b[0;31mTypeError\u001b[0m: int() argument must be a string, a bytes-like object or a number, not 'list'"
          ]
        }
      ]
    },
    {
      "cell_type": "code",
      "metadata": {
        "id": "BW0jud6AMTRU",
        "colab_type": "code",
        "colab": {}
      },
      "source": [
        "str.split?"
      ],
      "execution_count": 16,
      "outputs": []
    }
  ]
}
{
  "nbformat": 4,
  "nbformat_minor": 0,
  "metadata": {
    "colab": {
      "name": "hackerrank_1.ipynb",
      "provenance": [],
      "collapsed_sections": [],
      "include_colab_link": true
    },
    "kernelspec": {
      "name": "python3",
      "display_name": "Python 3"
    }
  },
  "cells": [
    {
      "cell_type": "markdown",
      "metadata": {
        "id": "view-in-github",
        "colab_type": "text"
      },
      "source": [
        "<a href=\"https://colab.research.google.com/github/shwethaar/HackerRank-Python/blob/master/hackerrank_1.ipynb\" target=\"_parent\"><img src=\"https://colab.research.google.com/assets/colab-badge.svg\" alt=\"Open In Colab\"/></a>"
      ]
    },
    {
      "cell_type": "markdown",
      "metadata": {
        "id": "qcWv7D6OXyFf"
      },
      "source": [
        "Solutions for HackerRank's Problem Solving and Python Proficiency badges.\n",
        "All solutions implemented in Python 3."
      ]
    },
    {
      "cell_type": "code",
      "metadata": {
        "id": "PoobydQoDMBo"
      },
      "source": [
        "#Say \"Hello, World!\" With Python\n",
        "print(\"Hello, World!\") "
      ],
      "execution_count": null,
      "outputs": []
    },
    {
      "cell_type": "code",
      "metadata": {
        "id": "e3fLBU3vFcnM"
      },
      "source": [
        "#Python If-Else\n",
        "if (n%2 !=0):\n",
        "  print(\"Weird\")\n",
        "elif ( n in range(2,6)):\n",
        "  print(\"Not Weird\")\n",
        "elif (n in range(6,21)):\n",
        "  print(\"Weird\")\n",
        "else:\n",
        "  print(\"Not Weird\")"
      ],
      "execution_count": null,
      "outputs": []
    },
    {
      "cell_type": "code",
      "metadata": {
        "id": "z42gWmhoHIH9"
      },
      "source": [
        "#Arithmetic Operators\n",
        "print(a+b,a-b,a*b,sep=\"\\n\")"
      ],
      "execution_count": null,
      "outputs": []
    },
    {
      "cell_type": "code",
      "metadata": {
        "id": "Bh1MWGuLHRav"
      },
      "source": [
        "#Python:Division\n",
        "print(a//b,a/b,sep=\"\\n\")"
      ],
      "execution_count": null,
      "outputs": []
    },
    {
      "cell_type": "code",
      "metadata": {
        "id": "iycVGIT8Hq4g"
      },
      "source": [
        "#Loops\n",
        "for i in  range(n):\n",
        "  print(i**2)"
      ],
      "execution_count": null,
      "outputs": []
    },
    {
      "cell_type": "code",
      "metadata": {
        "id": "0Ruteb0DHyhy"
      },
      "source": [
        "#Write a function\n",
        "def is_leap(year):\n",
        "    leap = False\n",
        "    # Write your logic here\n",
        "    if(year%4 == 0):\n",
        "      if(year%100 ==0):\n",
        "        if(year%400 ==0):\n",
        "          leap=True\n",
        "      else:\n",
        "        leap = True\n",
        "    return leap"
      ],
      "execution_count": null,
      "outputs": []
    },
    {
      "cell_type": "code",
      "metadata": {
        "id": "EoaZzAKtInnZ"
      },
      "source": [
        "#Print Function\n",
        "for i in range(1,n+1):\n",
        "  print(i,end=\"\")"
      ],
      "execution_count": null,
      "outputs": []
    },
    {
      "cell_type": "code",
      "metadata": {
        "id": "5pUzDaOhJ_jb"
      },
      "source": [
        "# Set .symmetric_difference() Operation\n",
        "eng_count = int(input())\n",
        "eng_roll =set(map(int, input().rstrip().split()))\n",
        "french_count = int(input())\n",
        "french_roll = list(map(int, input().rstrip().split()))\n",
        "print(len(eng_roll.symmetric_difference(french_roll)))"
      ],
      "execution_count": null,
      "outputs": []
    },
    {
      "cell_type": "code",
      "metadata": {
        "id": "c2kSb9YOkLQq"
      },
      "source": [
        "#Find the runner-up score\n",
        "arr = list (arr())\n",
        "score=[]\n",
        "for i in arr:\n",
        "  if (i not in score):\n",
        "    score.append(i)\n",
        "score.sort()\n",
        "print(score)\n",
        "print(score[-2])"
      ],
      "execution_count": null,
      "outputs": []
    },
    {
      "cell_type": "code",
      "metadata": {
        "id": "P6tuzDtwqlfS"
      },
      "source": [
        "#Finding the percentage\n",
        "query_name = input()\n",
        "marks_query = student_marks[query_name]\n",
        "sum_marks = sum(marks_query)\n",
        "print(\"{:.2f}\".format(sum_marks/(len(marks_query))))"
      ],
      "execution_count": null,
      "outputs": []
    },
    {
      "cell_type": "code",
      "metadata": {
        "id": "mItJheXhuIl1"
      },
      "source": [
        "#Lists\n",
        "list1=[]\n",
        "for i in range(N):\n",
        "  ip = input().split(\" \")\n",
        "  if (ip[0] == \"insert\"):\n",
        "    list1.insert(int (ip[1]),int (ip[2]))\n",
        "  elif (ip[0] == \"print\"):\n",
        "    print(list1)\n",
        "  elif (ip[0] == \"remove\"):\n",
        "    list1.remove(int (ip[1]))\n",
        "  elif (ip[0] == \"append\"):\n",
        "    list1.append(int (ip[1]))\n",
        "  elif (ip[0] == \"sort\"):\n",
        "    list1.sort()\n",
        "  elif (ip[0] == \"pop\"):\n",
        "    list1.pop()\n",
        "  elif (ip[0] == \"reverse\"):\n",
        "    list1.reverse()"
      ],
      "execution_count": null,
      "outputs": []
    },
    {
      "cell_type": "code",
      "metadata": {
        "id": "OKGFk6z_0LEe"
      },
      "source": [
        "#Tuples\n",
        "integer_list = tuple (integer_list)\n",
        "print(hash(integer_list))"
      ],
      "execution_count": null,
      "outputs": []
    },
    {
      "cell_type": "code",
      "metadata": {
        "id": "xdbXwUUy1iSf"
      },
      "source": [
        "#sWAP cASE\n",
        "print(s.swapcase())"
      ],
      "execution_count": null,
      "outputs": []
    },
    {
      "cell_type": "code",
      "metadata": {
        "id": "TFrdXPGs2Xog"
      },
      "source": [
        "#String split and join\n",
        "return( \"-\".join( line.split(\" \")))"
      ],
      "execution_count": null,
      "outputs": []
    },
    {
      "cell_type": "code",
      "metadata": {
        "id": "7KTaSEz9320l"
      },
      "source": [
        "#What's Your Name?\n",
        "print(\"Hello\",a,b+\"! You just delved into python.\")"
      ],
      "execution_count": null,
      "outputs": []
    },
    {
      "cell_type": "code",
      "metadata": {
        "id": "zM8J52G-4n98"
      },
      "source": [
        "#Mutations\n",
        "return (string[:position]+character+string[position+1:])"
      ],
      "execution_count": null,
      "outputs": []
    },
    {
      "cell_type": "code",
      "metadata": {
        "id": "YBWHinv_5jOr"
      },
      "source": [
        "#Find a String\n",
        "  count = 0\n",
        "  for i in range(len(string)-len(sub_string)+1):\n",
        "    sstr =[]\n",
        "    for j in range(len(sub_string)):\n",
        "      sstr.append(string[i+j])\n",
        "    if ( sub_string == \"\".join(sstr)):\n",
        "      count+=1\n",
        "  return (count)"
      ],
      "execution_count": null,
      "outputs": []
    },
    {
      "cell_type": "code",
      "metadata": {
        "id": "PxhkzxAN-P6n"
      },
      "source": [
        "#String Validators\n",
        "s = [i for i in  s]\n",
        "result=[\"False\" for k in range(5)]\n",
        "for j in s:\n",
        "  if (j.isalnum()):\n",
        "    result[0]=True\n",
        "  if (j.isalpha()):\n",
        "    result[1] =True\n",
        "  if (j.isdigit()):\n",
        "    result[2] =True\n",
        "  if (j.islower()):\n",
        "    result[3] =True\n",
        "  if (j.isupper()):\n",
        "    result[4] =True\n",
        "  else:\n",
        "    continue\n",
        "  \n",
        "for k in result:\n",
        "  print( k  , end=\"\\n\")"
      ],
      "execution_count": null,
      "outputs": []
    },
    {
      "cell_type": "code",
      "metadata": {
        "id": "8EWktJeOQ7fG"
      },
      "source": [
        "#Text Wrap\n",
        "l = textwrap.wrap(string,width = max_width)\n",
        "return (\"\\n\".join(l))"
      ],
      "execution_count": null,
      "outputs": []
    },
    {
      "cell_type": "code",
      "metadata": {
        "id": "XTUe1ygLWdau"
      },
      "source": [
        "#itertools.product()\n",
        "from itertools import product\n",
        "a=  list(map(int, input().split()))\n",
        "b=  list(map(int, input().split()))\n",
        "\n",
        "result = list (product(a,b))\n",
        "for k in result:\n",
        "  print(k,end=\" \")"
      ],
      "execution_count": null,
      "outputs": []
    },
    {
      "cell_type": "code",
      "metadata": {
        "id": "KqiMco93wL-4"
      },
      "source": [
        "#itertools.permutations\n",
        "from itertools import permutations\n",
        "string = list (input().split())\n",
        "string , num = string[0],int (string[1])\n",
        "l_perm = list (permutations(string,num))\n",
        "l_perm.sort()\n",
        "for i in l_perm:\n",
        "  print(\"\".join(i))"
      ],
      "execution_count": null,
      "outputs": []
    },
    {
      "cell_type": "code",
      "metadata": {
        "id": "aC0vEhWF0mrA"
      },
      "source": [
        "#itertools.combinations\n",
        "from itertools import combinations\n",
        "string = list (input().split())\n",
        "string , num = string[0],int (string[1])\n",
        "string = list(string)\n",
        "string.sort()\n",
        "string = \"\".join(string)\n",
        "for k in range(1,num+1):\n",
        "  l_com = list (combinations(string,k))\n",
        "  l_com.sort()\n",
        "  for i in l_com:\n",
        "    print(\"\".join(i))"
      ],
      "execution_count": null,
      "outputs": []
    },
    {
      "cell_type": "code",
      "metadata": {
        "id": "L7AdkhHzz5W5"
      },
      "source": [
        "#collections.Counter()\n",
        "from collections import Counter\n",
        "num_shoes = int (input())\n",
        "shoesizes = list (map(int,input().split()))\n",
        "shoesizes = Counter(shoesizes)\n",
        "num_cust=int (input())\n",
        "earning=0\n",
        "for j in range(num_cust):\n",
        "  specs = list(map(int,input().split()))\n",
        "  if (shoesizes[specs[0]]>=1):\n",
        "    earning+=specs[1]\n",
        "    shoesizes[specs[0]]-=1\n",
        "  else:\n",
        "    continue\n",
        "print(earning)"
      ],
      "execution_count": null,
      "outputs": []
    },
    {
      "cell_type": "code",
      "metadata": {
        "id": "7ZtgHovkIlMV"
      },
      "source": [
        "#Polar Coordinates\n",
        "from cmath import *\n",
        "cmp_num = complex(input())\n",
        "print(abs(complex (cmp_num)))\n",
        "print(phase(complex (cmp_num)))"
      ],
      "execution_count": null,
      "outputs": []
    },
    {
      "cell_type": "code",
      "metadata": {
        "id": "MpnJaok4MPpG"
      },
      "source": [
        "#Introduction to Sets\n",
        "distinct_ht = set (array)\n",
        "return (sum(distinct_ht)/len(distinct_ht))"
      ],
      "execution_count": null,
      "outputs": []
    },
    {
      "cell_type": "code",
      "metadata": {
        "id": "blEoPLA5NKyp"
      },
      "source": [
        "#Symmetric Difference\n",
        "m = int (input())\n",
        "set1 = set (map(int , input().split()))\n",
        "n = int (input())\n",
        "set2 = set (map(int , input().split()))\n",
        "set_diff = list((set1.difference(set2)).union(set2.difference(set1)))\n",
        "set_diff.sort()\n",
        "for ele in set_diff:\n",
        "  print(ele)"
      ],
      "execution_count": null,
      "outputs": []
    },
    {
      "cell_type": "code",
      "metadata": {
        "id": "7NkP8fODWx1_"
      },
      "source": [
        "#Calendar Module y m d\n",
        "from calendar import weekday\n",
        "mdy = list (map(int , input().split()))\n",
        "days=[\"MONDAY\",\"TUESDAY\",\"WEDNESDAY\",\"THURSDAY\",\"FRIDAY\",\"SATURDAY\",\"SUNDAY\"]\n",
        "day_week = weekday(mdy[2],mdy[0],mdy[1])\n",
        "print(days[day_week])"
      ],
      "execution_count": null,
      "outputs": []
    },
    {
      "cell_type": "code",
      "metadata": {
        "id": "4dej28NgYmzH"
      },
      "source": [
        "#Exceptions\n",
        "t = int (input())\n",
        "for i in range(t):\n",
        "  a = list ( input().split())\n",
        "  a,b= a[0],a[1]\n",
        "  try:\n",
        "      print(int (a)//int (b))\n",
        "  except ZeroDivisionError as zde:\n",
        "    print(\"Error Code:\",zde)\n",
        "  except ValueError as ve:\n",
        "    print(\"Error Code:\",ve)"
      ],
      "execution_count": null,
      "outputs": []
    },
    {
      "cell_type": "code",
      "metadata": {
        "id": "5ZXhPrXOm2Uq"
      },
      "source": [
        "#Collection.namedtuple()\n",
        "n = int (input())\n",
        "id = (list (input().split())).index(\"MARKS\")\n",
        "marks_sum = 0 \n",
        "for x in range(n):\n",
        "  marks_sum+=int ((list (input().split()))[id])\n",
        "print(\"{:.2f}\".format(marks_sum))"
      ],
      "execution_count": null,
      "outputs": []
    },
    {
      "cell_type": "code",
      "metadata": {
        "id": "ryleU4KItRSG"
      },
      "source": [
        "#Set.add()\n",
        "n = int (input())\n",
        "stamps = set ()\n",
        "for i in range(n):\n",
        "  stamps.add(input())\n",
        "print(len(stamps))"
      ],
      "execution_count": null,
      "outputs": []
    },
    {
      "cell_type": "code",
      "metadata": {
        "id": "Af8c5iZAu0u5"
      },
      "source": [
        "#Set .discard(), .remove() , .pop()\n",
        "n = int(input())\n",
        "s = set(map(int, input().split()))\n",
        "c = int (input())\n",
        "for x in range(c):\n",
        "  command = list(input().split())\n",
        "  try:\n",
        "    if (command[0] == \"pop\"):\n",
        "      s.pop()\n",
        "    elif (command[0] == \"remove\"):\n",
        "      s.remove(int(command[1]))\n",
        "    if (command[0] == \"discard\"):\n",
        "      s.remove(int(command[1]))\n",
        "  except:\n",
        "    continue\n",
        "print(sum(s))"
      ],
      "execution_count": null,
      "outputs": []
    },
    {
      "cell_type": "code",
      "metadata": {
        "id": "Iy_nhh0UxbMs"
      },
      "source": [
        "#Mod Divmod\n",
        "a = int (input())\n",
        "b = int (input())\n",
        "print(a//b,a%b,divmod(a,b),sep=\"\\n\")"
      ],
      "execution_count": null,
      "outputs": []
    },
    {
      "cell_type": "code",
      "metadata": {
        "id": "Lv8apBjrx9cL"
      },
      "source": [
        "#Power - Mod Power\n",
        "a = int (input())\n",
        "b = int (input())\n",
        "m = int (input())\n",
        "print(pow(a,b),pow(a,b,m),sep=\"\\n\")"
      ],
      "execution_count": null,
      "outputs": []
    },
    {
      "cell_type": "code",
      "metadata": {
        "id": "bd-IlMJVyWOr"
      },
      "source": [
        "#Integers Come In All Sizes\n",
        "a = int (input())\n",
        "b = int (input())\n",
        "c = int (input())\n",
        "d = int (input())\n",
        "print((a**b)+(c**d))"
      ],
      "execution_count": null,
      "outputs": []
    },
    {
      "cell_type": "code",
      "metadata": {
        "id": "rdD2aKVMzG5K"
      },
      "source": [
        "# Set .difference()\n",
        "eng = int (input())\n",
        "eng_roll = set (map(int , input().split()))\n",
        "eng = int (input())\n",
        "french_roll = set (map(int , input().split()))\n",
        "print(len(eng_roll.difference(french_roll)))"
      ],
      "execution_count": null,
      "outputs": []
    },
    {
      "cell_type": "code",
      "metadata": {
        "id": "VVHCy17s0C_w"
      },
      "source": [
        "# Set .intersection()\n",
        "eng = int (input())\n",
        "eng_roll = set (map(int , input().split()))\n",
        "eng = int (input())\n",
        "french_roll = set (map(int , input().split()))\n",
        "print(len(eng_roll.union(french_roll)))"
      ],
      "execution_count": null,
      "outputs": []
    },
    {
      "cell_type": "code",
      "metadata": {
        "id": "OT_1CPxm8LTN"
      },
      "source": [
        "#The Captain's room\n",
        "k = int (input())\n",
        "rooms = list (map(int , input().split()))\n",
        "for i in set (rooms):\n",
        "  if (rooms.count(i)==1):\n",
        "    print(i)"
      ],
      "execution_count": null,
      "outputs": []
    },
    {
      "cell_type": "code",
      "metadata": {
        "id": "q9BI5F5o0lBL"
      },
      "source": [
        "#Service Lane\n",
        "def serviceLane(n, cases):\n",
        "  wid=[]\n",
        "  for ee in cases:\n",
        "    w = width[ee[0]:ee[1]+1]\n",
        "    wid.append(min(w))\n",
        "  return (wid)"
      ],
      "execution_count": null,
      "outputs": []
    },
    {
      "cell_type": "code",
      "metadata": {
        "id": "5cTzd8EP_f5g"
      },
      "source": [
        "#CamelCase\n",
        "def camelcase(s):\n",
        "  count=0\n",
        "  for l in s:\n",
        "    if(l.isupper()):\n",
        "      count+=1"
      ],
      "execution_count": null,
      "outputs": []
    },
    {
      "cell_type": "code",
      "metadata": {
        "id": "avDHYntIQrmK"
      },
      "source": [
        "#Strong password\n",
        "def minimumNumber(n, password):\n",
        "  count=[0,0,0,0]\n",
        "  numbers = \"0123456789\"\n",
        "  lower_case = \"abcdefghijklmnopqrstuvwxyz\"\n",
        "  upper_case = \"ABCDEFGHIJKLMNOPQRSTUVWXYZ\"\n",
        "  special_characters = \"!@#$%^&*()-+\"\n",
        "  for k in password:\n",
        "    if k in numbers:\n",
        "      count[0]+=1\n",
        "    elif k in lower_case:\n",
        "      count[1]+=1\n",
        "    elif k in upper_case:\n",
        "      count[2]+=1\n",
        "    elif k in special_characters:\n",
        "      count[3]+=1\n",
        "  return(max(count.count(0),(6-n)))"
      ],
      "execution_count": null,
      "outputs": []
    },
    {
      "cell_type": "code",
      "metadata": {
        "id": "r9O8Z8XCTBj0"
      },
      "source": [
        "#mars-exploration\n",
        "def marsExploration(s):\n",
        "  count=0\n",
        "  for l in range(1,len(s)+1):\n",
        "    if l%3 ==0:\n",
        "      word=s[l-3:l]\n",
        "      if word[0]!='S': \n",
        "        count+=1\n",
        "      if word[2]!='S':\n",
        "        count+=1\n",
        "      if word[1]!='O':\n",
        "        count+=1\n",
        "  return count"
      ],
      "execution_count": null,
      "outputs": []
    },
    {
      "cell_type": "code",
      "metadata": {
        "id": "K4ZX8611TEVt"
      },
      "source": [
        "#Pangrams\n",
        "def pangrams(s):\n",
        "  s = s.upper()\n",
        "  chars = \"ABCDEFGHIJKLMNOPQRSTUVWXYZ\"\n",
        "  flag=1\n",
        "  for c in chars:\n",
        "    if c not in s:\n",
        "      flag=0\n",
        "  if flag==1:\n",
        "    return \"pangram\"\n",
        "  elif flag==0:\n",
        "    return \"not pangram\""
      ],
      "execution_count": null,
      "outputs": []
    },
    {
      "cell_type": "code",
      "metadata": {
        "id": "sodG0rUuKyQy"
      },
      "source": [
        "# Gemstones\n",
        "def gemstones(arr):\n",
        "  minerals = \"\".join(arr)\n",
        "  minerals = set(minerals)\n",
        "  count=0\n",
        "  for i in minerals:\n",
        "    flag = True\n",
        "    for j in arr:\n",
        "      if i in j:\n",
        "        continue\n",
        "      else:\n",
        "        flag = False\n",
        "    if flag == True:\n",
        "      count+=1\n",
        "    else:\n",
        "      continue\n",
        "  return count"
      ],
      "execution_count": null,
      "outputs": []
    },
    {
      "cell_type": "code",
      "metadata": {
        "id": "Bb5OsY9jRLHT"
      },
      "source": [
        "# Making anagrams\n",
        "def makingAnagrams(s1,s2):\n",
        "  alphabets = set(s1+s2)\n",
        "  count=0\n",
        "  for a in alphabets:\n",
        "    if a in s1 and a in s2:\n",
        "      count += min(s1.count(a),s2.count(a))\n",
        "  return ((len(s1)-count)+(len(s2)-count))"
      ],
      "execution_count": null,
      "outputs": []
    },
    {
      "cell_type": "code",
      "metadata": {
        "id": "QWl9Udi7Wk1_"
      },
      "source": [
        "# Sherlock and Array\n",
        "def balancedSums(arr):\n",
        "  flag=False\n",
        "  for k in range(len(arr)):\n",
        "    result=\"\"\n",
        "    #print(sum(arr[:k]),sum(arr[k+1:]),sep=\" and \")\n",
        "    #print(arr[:k],arr[k+1:])\n",
        "    if sum(arr[:k]) == sum(arr[k+1:]):\n",
        "      flag=True\n",
        "      break\n",
        "  if flag==True:\n",
        "    return(\"YES\")\n",
        "  else:\n",
        "    return(\"NO\")"
      ],
      "execution_count": null,
      "outputs": []
    },
    {
      "cell_type": "code",
      "metadata": {
        "id": "nYhBgi5Ku4E8"
      },
      "source": [
        "# Equalize the Array\n",
        "def equalizeArray(arr):\n",
        "  set_arr = set(arr)\n",
        "  counts=[]\n",
        "  for k in set_arr:\n",
        "    counts.append(arr.count(k))\n",
        "  return len(arr) - max(counts)"
      ],
      "execution_count": null,
      "outputs": []
    },
    {
      "cell_type": "code",
      "metadata": {
        "id": "mt_x4TOvIrwv"
      },
      "source": [
        "# Chocolate Feast\n",
        "def chocolateFeast(n,c,m):\n",
        "  count=0\n",
        "  wrappers=0\n",
        "  while True:\n",
        "    if count>100:\n",
        "      break\n",
        "    count+=(n//c)\n",
        "    wrappers+=count\n",
        "    n = n%c\n",
        "    while wrappers>=m :\n",
        "      count+=(wrappers//m)\n",
        "      wrappers = (wrappers%m) + (wrappers//m)\n",
        "    if wrappers<m and n<c:\n",
        "      break\n",
        "  return count\n",
        "\n",
        "chocolateFeast(12,4,4)"
      ],
      "execution_count": null,
      "outputs": []
    }
  ]
}
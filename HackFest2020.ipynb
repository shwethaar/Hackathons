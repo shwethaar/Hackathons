{
  "nbformat": 4,
  "nbformat_minor": 0,
  "metadata": {
    "colab": {
      "name": "HackFest2020.ipynb",
      "provenance": [],
      "private_outputs": true,
      "collapsed_sections": [],
      "authorship_tag": "ABX9TyPQRFt7x/PC/sV5qJnWWrWV",
      "include_colab_link": true
    },
    "kernelspec": {
      "name": "python3",
      "display_name": "Python 3"
    }
  },
  "cells": [
    {
      "cell_type": "markdown",
      "metadata": {
        "id": "view-in-github",
        "colab_type": "text"
      },
      "source": [
        "<a href=\"https://colab.research.google.com/github/shwethaar/HackerRank-Python/blob/master/HackFest2020.ipynb\" target=\"_parent\"><img src=\"https://colab.research.google.com/assets/colab-badge.svg\" alt=\"Open In Colab\"/></a>"
      ]
    },
    {
      "cell_type": "markdown",
      "metadata": {
        "id": "_pbYEQGsM8Rr"
      },
      "source": [
        "RGB Queries"
      ]
    },
    {
      "cell_type": "code",
      "metadata": {
        "id": "OnwkRzrxsSwB"
      },
      "source": [
        "import itertools as it\n",
        "def mixColors(colors, queries):\n",
        "    # Write your code here\n",
        "    mix=[]\n",
        "    result=[\"NO\" for k in range(len(queries))]\n",
        "    colors=[list(i) for i in set(map(tuple, colors))]\n",
        "    if len(colors)==1:\n",
        "        for k in range(len(queries)):\n",
        "            if queries[k] == colors[0]:\n",
        "                result[k]=\"YES\"\n",
        "                queries[k]=0\n",
        "            else:\n",
        "                queries[k]=0\n",
        "        return result\n",
        "    for k in range(len(queries)):\n",
        "        if queries[k]==0:\n",
        "            continue\n",
        "        if queries[k] in colors:\n",
        "            result[k]=\"YES\"\n",
        "            queries[k]=0\n",
        "    for k in range(2,len(colors)+1):\n",
        "        if any(k==0 for k in queries):\n",
        "            for j in list(it.combinations(colors,k)):\n",
        "                if any(k==0 for k in queries):\n",
        "                    mix=(list(map(max,zip(*j))))\n",
        "                    if mix in queries :\n",
        "                        result[queries.index(mix)] = \"YES\"\n",
        "                        queries[queries.index(mix)] = 0\n",
        "                else:\n",
        "                  break\n",
        "        else:\n",
        "          break\n",
        "    return result"
      ],
      "execution_count": null,
      "outputs": []
    },
    {
      "cell_type": "code",
      "metadata": {
        "id": "YykS2dyidaNe"
      },
      "source": [
        "mixColors([[1,1,1],[0,0,2],[5,0,0],[5,2,2]],[[0,0,2],[5,1,2],[5,3,2]])"
      ],
      "execution_count": null,
      "outputs": []
    },
    {
      "cell_type": "markdown",
      "metadata": {
        "id": "8ke40YpL8QAN"
      },
      "source": [
        "Cyclic binary string"
      ]
    },
    {
      "cell_type": "code",
      "metadata": {
        "id": "10QmmpmK5i_3"
      },
      "source": [
        "maxpow=0\n",
        "    for j in range(len(s)):\n",
        "        val= int(s[-j:]+s[:-j],2)\n",
        "        if val==0:\n",
        "            return -1\n",
        "        elif val%2 !=0:\n",
        "            continue\n",
        "        maxpow=max(math.log2(val & (~(val-1))),maxpow)\n",
        "    return math.floor(maxpow)"
      ],
      "execution_count": null,
      "outputs": []
    },
    {
      "cell_type": "markdown",
      "metadata": {
        "id": "6cDt-0Krt0bL"
      },
      "source": [
        "Maximization"
      ]
    },
    {
      "cell_type": "code",
      "metadata": {
        "id": "u0bcQD61t2XI"
      },
      "source": [
        "def maximumStones(arr):\n",
        "  sumodd= sum(arr[::2])\n",
        "  sumeven=sum(arr[1::2])\n",
        "  return 2*min(sumeven,sumodd)\n",
        "maximumStones([2,1,2])"
      ],
      "execution_count": null,
      "outputs": []
    },
    {
      "cell_type": "markdown",
      "metadata": {
        "id": "vMTvS9lAWP3x"
      },
      "source": [
        "Strictly increasing"
      ]
    },
    {
      "cell_type": "code",
      "metadata": {
        "id": "GJQgJqJZgnZB"
      },
      "source": [
        "def whoIsTheWinner(arr):\n",
        "  set_arr = list(set(arr))\n",
        "  count=0\n",
        "  l=[k for k in range(20) if arr.count(k)>1]\n",
        "  while set_arr != arr:\n",
        "    if count%2 == 0:\n",
        "      if set_arr == arr or sorted(arr) == set_arr:\n",
        "        return(\"First\")\n",
        "      if len(set_arr)!=len(arr):\n",
        "        \n",
        "    else:\n",
        "      if set_arr == arr or sorted(arr) == set_arr:\n",
        "        return(\"Second\")\n",
        "\n",
        "    count+=1"
      ],
      "execution_count": null,
      "outputs": []
    }
  ]
}